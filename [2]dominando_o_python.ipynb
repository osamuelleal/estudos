{
 "cells": [
  {
   "cell_type": "markdown",
   "metadata": {},
   "source": [
    "**Trabalhando com Estruturas Condicionais**\n",
    "- estruturas condicionais são importantes em qualquer linguagem de programação\n",
    "- exemplo: se isso acontecer, então mostre isso\n",
    "- retorno boleano (True or False)"
   ]
  },
  {
   "cell_type": "code",
   "execution_count": null,
   "metadata": {},
   "outputs": [],
   "source": [
    "10 > 1"
   ]
  },
  {
   "cell_type": "code",
   "execution_count": null,
   "metadata": {},
   "outputs": [],
   "source": [
    "5 <= 4"
   ]
  },
  {
   "cell_type": "code",
   "execution_count": null,
   "metadata": {},
   "outputs": [],
   "source": [
    "if 10 > 1:\n",
    "  print ('verdadeiro')\n",
    "  print (1 + 2)"
   ]
  },
  {
   "cell_type": "code",
   "execution_count": null,
   "metadata": {},
   "outputs": [],
   "source": [
    "if 10 > 20:\n",
    "  print ('verdadeiro')\n",
    "else:\n",
    "  print ('falso')"
   ]
  },
  {
   "cell_type": "code",
   "execution_count": null,
   "metadata": {},
   "outputs": [],
   "source": [
    "# testando operador lógico OR\n",
    "nome = 'samuel'\n",
    "\n",
    "if 10 > 100 or nome == 'samuel':\n",
    "  print ('olá samuel, seja bem vindo')\n",
    "else:\n",
    "  print ('você não é o samuel')"
   ]
  },
  {
   "cell_type": "code",
   "execution_count": null,
   "metadata": {},
   "outputs": [],
   "source": [
    "# testando o operador lógico AND\n",
    "if 10 > 100 and nome == 'samuel':\n",
    "  print ('olá samuel, seja bem vindo')\n",
    "else:\n",
    "  print ('você não é o samuel')"
   ]
  },
  {
   "cell_type": "code",
   "execution_count": null,
   "metadata": {},
   "outputs": [],
   "source": [
    "# a instrução ELIF é acionada caso a instrução IF for falsa\n",
    "valor = 200\n",
    "\n",
    "if valor > 100:\n",
    "  print ('ok, valor maior do que 100')\n",
    "elif valor > 50:\n",
    "  print ('ok, valor maior do que 50')\n",
    "else:\n",
    "  print ('o valor tem que ser maior que 50')"
   ]
  },
  {
   "cell_type": "code",
   "execution_count": null,
   "metadata": {},
   "outputs": [],
   "source": [
    "usuario = 'samuel'\n",
    "senha = 'data_science'\n",
    "\n",
    "if usuario == 'samuel':\n",
    "  if senha == 'data_science':\n",
    "    print ('ok, tudo certo')\n",
    "  else:\n",
    "    print ('Usuário correto, porém senha incorreta')\n",
    "else:\n",
    "  print ('Nome de usuário inválido')"
   ]
  },
  {
   "cell_type": "markdown",
   "metadata": {},
   "source": [
    "**Trabalhando com Laços de Repetição (loops)**"
   ]
  },
  {
   "cell_type": "code",
   "execution_count": null,
   "metadata": {},
   "outputs": [],
   "source": [
    "# os loops existem em diversas linguagens de programação e são usados para serem executados várias vezes até que uma condição seja satisfeita\n",
    "# os loops são usados no Python da seguinte forma:\n",
    "\n",
    "for i in [1,2,3,4,5]:\n",
    "  print ('valor: %s' %i)\n",
    "  print (i + 2)"
   ]
  },
  {
   "cell_type": "code",
   "execution_count": null,
   "metadata": {},
   "outputs": [],
   "source": [
    "for caracter in 'meu nome é samuel':\n",
    "  print (caracter)"
   ]
  },
  {
   "cell_type": "code",
   "execution_count": null,
   "metadata": {},
   "outputs": [],
   "source": [
    "automoveis = ['ferrari', 'porsche', 'lamborghini']\n",
    "for carros in automoveis:\n",
    "  print (carros)"
   ]
  },
  {
   "cell_type": "code",
   "execution_count": null,
   "metadata": {},
   "outputs": [],
   "source": [
    "pessoas_idade = {'rodrigo': 30, 'maria': 25, 'jose': 65}\n",
    "for p in pessoas_idade:\n",
    "  print (p)"
   ]
  },
  {
   "cell_type": "code",
   "execution_count": null,
   "metadata": {},
   "outputs": [],
   "source": [
    "for i in [1,2,3,4,5,6,7,8,9,10]:\n",
    "  if i % 2 > 0:\n",
    "    print (i)"
   ]
  },
  {
   "cell_type": "code",
   "execution_count": null,
   "metadata": {},
   "outputs": [],
   "source": [
    "#função zip para concatenar listas\n",
    "\n",
    "indice = [10,15,20]\n",
    "listas = ['olá mundo', 'python é uma linguagem sensacional', 'minerando dados a maior comunidade de data science']\n",
    "\n",
    "for i, l in zip (indice, listas):\n",
    "  print (i,l)"
   ]
  },
  {
   "cell_type": "code",
   "execution_count": null,
   "metadata": {},
   "outputs": [],
   "source": [
    "#loops aninhados\n",
    "\n",
    "for i in ['1a fase', '2a fase', '3a fase']:\n",
    "  print (i)\n",
    "  for y in ['maçã', 'bananas', 'uvas']:\n",
    "    print (y)"
   ]
  },
  {
   "cell_type": "code",
   "execution_count": null,
   "metadata": {},
   "outputs": [],
   "source": [
    "#instrução BREAK\n",
    "\n",
    "for letra in 'python':\n",
    "  if letra == 'o':\n",
    "    break\n",
    "  print ('letra: ', letra)\n",
    "print ('\\n\\ncontinuando o programa...')"
   ]
  },
  {
   "cell_type": "code",
   "execution_count": null,
   "metadata": {},
   "outputs": [],
   "source": [
    "#instrução CONTINUE\n",
    "\n",
    "for letra in 'python':\n",
    "  if letra == 'o':\n",
    "    continue\n",
    "  print ('letra: ', letra)"
   ]
  },
  {
   "cell_type": "markdown",
   "metadata": {},
   "source": [
    "**Trabalhando com loops While**"
   ]
  },
  {
   "cell_type": "code",
   "execution_count": null,
   "metadata": {},
   "outputs": [],
   "source": [
    "#os loops WHILE utilizam a seguinte sintaxe\n",
    "#perceba que a condição é o primeiro passo a ser executado\n",
    "#se a condição for verdadeira ele executa o loop até ser falsa\n",
    "\n",
    "while condicao:\n",
    "  <faca algo>"
   ]
  },
  {
   "cell_type": "code",
   "execution_count": null,
   "metadata": {},
   "outputs": [],
   "source": [
    "#exemplo de utilização do loop WHILE\n",
    "\n",
    "i = 0\n",
    "while i < 10:\n",
    "  print (i)\n",
    "  i = i + 1\n",
    "print ('\\n\\nContinuando o programa...')"
   ]
  },
  {
   "cell_type": "code",
   "execution_count": null,
   "metadata": {},
   "outputs": [],
   "source": [
    "#quando a condição inicial é falsa, ele vai deixar em branco\n",
    "\n",
    "i = 11\n",
    "while i < 10:\n",
    "  print (i)\n",
    "  i = i + 1\n",
    "print ('\\n\\nContinuando o programa...')"
   ]
  },
  {
   "cell_type": "code",
   "execution_count": null,
   "metadata": {},
   "outputs": [],
   "source": [
    "#WHILE com instrução ELSE\n",
    "#a instrução ELSE é executada quando a instrução WHILE for falsa\n",
    "\n",
    "i = 0\n",
    "while i < 10:\n",
    "  print (i)\n",
    "  i = i + 1\n",
    "else:\n",
    "  print ('o número é igual ou maior que 10')\n",
    "print ('\\n\\nContinuando o programa...')"
   ]
  },
  {
   "cell_type": "code",
   "execution_count": null,
   "metadata": {},
   "outputs": [],
   "source": [
    "#WHILE, BREAK E CONTINUE\n",
    "#WHILE com a instrução BREAK\n",
    "\n",
    "i = 0\n",
    "while i < 10:\n",
    "  if i == 5:\n",
    "    break\n",
    "  print (i)\n",
    "  i = i + 1\n",
    "print ('\\n\\nContinuando o programa...')"
   ]
  },
  {
   "cell_type": "code",
   "execution_count": null,
   "metadata": {
    "tags": [
     "outputPrepend",
     "outputPrepend",
     "outputPrepend",
     "outputPrepend",
     "outputPrepend",
     "outputPrepend",
     "outputPrepend",
     "outputPrepend",
     "outputPrepend",
     "outputPrepend",
     "outputPrepend",
     "outputPrepend",
     "outputPrepend",
     "outputPrepend",
     "outputPrepend",
     "outputPrepend",
     "outputPrepend",
     "outputPrepend",
     "outputPrepend",
     "outputPrepend",
     "outputPrepend",
     "outputPrepend",
     "outputPrepend",
     "outputPrepend",
     "outputPrepend",
     "outputPrepend",
     "outputPrepend",
     "outputPrepend",
     "outputPrepend",
     "outputPrepend",
     "outputPrepend",
     "outputPrepend",
     "outputPrepend",
     "outputPrepend",
     "outputPrepend",
     "outputPrepend",
     "outputPrepend",
     "outputPrepend",
     "outputPrepend",
     "outputPrepend",
     "outputPrepend",
     "outputPrepend",
     "outputPrepend",
     "outputPrepend",
     "outputPrepend",
     "outputPrepend",
     "outputPrepend",
     "outputPrepend",
     "outputPrepend",
     "outputPrepend",
     "outputPrepend",
     "outputPrepend",
     "outputPrepend",
     "outputPrepend",
     "outputPrepend",
     "outputPrepend",
     "outputPrepend",
     "outputPrepend",
     "outputPrepend"
    ]
   },
   "outputs": [],
   "source": [
    "#cuidado com os LOOPS INFINITOS\n",
    "#os loops são infinitos quando a condição sempre for verdadeira\n",
    "\n",
    "i = 0\n",
    "while i < 10:\n",
    "  print (i)"
   ]
  },
  {
   "cell_type": "markdown",
   "metadata": {},
   "source": [
    "**Manipulação de arquivos de dados**"
   ]
  },
  {
   "cell_type": "code",
   "execution_count": null,
   "metadata": {},
   "outputs": [],
   "source": [
    "#função nativa Open() gera um objetivo do tipo ARQUIVO\n",
    "\n",
    "file = open ('C:/Users/Pc Trabalho/Desktop/Studio Sun/Estudo/DSZ/mdrepo-master/automobile.csv', 'r')"
   ]
  },
  {
   "cell_type": "code",
   "execution_count": null,
   "metadata": {},
   "outputs": [],
   "source": [
    "#métodos disponíveis\n",
    "print (file)"
   ]
  },
  {
   "cell_type": "code",
   "execution_count": null,
   "metadata": {},
   "outputs": [],
   "source": [
    "#lendo várias linhas do arquivo\n",
    "\n",
    "lista = file.readlines()\n",
    "print (type(lista))"
   ]
  },
  {
   "cell_type": "code",
   "execution_count": null,
   "metadata": {
    "tags": [
     "outputPrepend"
    ]
   },
   "outputs": [],
   "source": [
    "for i in lista:\n",
    "  print (i)"
   ]
  },
  {
   "cell_type": "code",
   "execution_count": null,
   "metadata": {},
   "outputs": [],
   "source": [
    "#imprime a quantidade de caracteres do arquivo\n",
    "print (file.tell())"
   ]
  },
  {
   "cell_type": "code",
   "execution_count": null,
   "metadata": {
    "tags": [
     "outputPrepend"
    ]
   },
   "outputs": [],
   "source": [
    "#lendo um arquivo\n",
    "\n",
    "file = open ('C:/Users/Pc Trabalho/Desktop/Studio Sun/Estudo/DSZ/mdrepo-master/automobile.csv')\n",
    "print (file.read())"
   ]
  },
  {
   "cell_type": "code",
   "execution_count": null,
   "metadata": {},
   "outputs": [],
   "source": [
    "#inteirando sobre um arquivo\n",
    "\n",
    "type(file)"
   ]
  },
  {
   "cell_type": "code",
   "execution_count": null,
   "metadata": {
    "tags": [
     "outputPrepend"
    ]
   },
   "outputs": [],
   "source": [
    "#loops para interação no arquivo ajudam no uso de memória em arquivos grandes\n",
    "\n",
    "file = open ('C:/Users/Pc Trabalho/Desktop/Studio Sun/Estudo/DSZ/mdrepo-master/automobile.csv', 'r')\n",
    "for linha in file:\n",
    "  print (linha)"
   ]
  },
  {
   "cell_type": "code",
   "execution_count": null,
   "metadata": {},
   "outputs": [],
   "source": [
    "#abre o arquivo em modo escrita 'w'\n",
    "\n",
    "file2 = open ('resultados.txt', 'w')"
   ]
  },
  {
   "cell_type": "code",
   "execution_count": null,
   "metadata": {},
   "outputs": [],
   "source": [
    "#usando o método WRITE() para escrever no arquivo\n",
    "\n",
    "file2.write('Data Science é a profissão do futuro. ')\n",
    "file2.write('Minerando Dados, a sua comunidade de Data Science. ')"
   ]
  },
  {
   "cell_type": "code",
   "execution_count": null,
   "metadata": {},
   "outputs": [],
   "source": [
    "#quando abrimos um arquivo, também precisamos fechá-lo\n",
    "#usamos o método CLOSE()\n",
    "\n",
    "file2.close()"
   ]
  },
  {
   "cell_type": "code",
   "execution_count": null,
   "metadata": {},
   "outputs": [],
   "source": [
    "#tentando ler o arquivo\n",
    "#vai dar erro porque não foi aberto no modo de leitura\n",
    "\n",
    "file2.read()"
   ]
  },
  {
   "cell_type": "code",
   "execution_count": null,
   "metadata": {},
   "outputs": [],
   "source": [
    "#abrindo arquivo em modo de leitura\n",
    "\n",
    "file2 = open ('resultados.txt', 'r')"
   ]
  },
  {
   "cell_type": "code",
   "execution_count": null,
   "metadata": {},
   "outputs": [],
   "source": [
    "#ler linha a linha\n",
    "\n",
    "file2.readline()"
   ]
  },
  {
   "cell_type": "code",
   "execution_count": null,
   "metadata": {},
   "outputs": [],
   "source": [
    "#o modo de leitura 'a', serve para adicionar linhas ao final do arquivo, sem alterar os parâmetros anteriores\n",
    "\n",
    "file2 = open ('resultados.txt', 'a')\n",
    "file2.write('Última linha do arquivo.')\n",
    "file2.close()"
   ]
  },
  {
   "cell_type": "code",
   "execution_count": null,
   "metadata": {},
   "outputs": [],
   "source": [
    "file2 = open ('resultados.txt', 'r')\n",
    "file2.readlines()"
   ]
  },
  {
   "cell_type": "code",
   "execution_count": null,
   "metadata": {},
   "outputs": [],
   "source": [
    "#o método writelines() permite escrever uma lista de dados no arquivo\n",
    "\n",
    "lista = ['Manipular arquivos no Python é fácil', 'Segunda linha', 'Mais uma linha']"
   ]
  },
  {
   "cell_type": "code",
   "execution_count": null,
   "metadata": {},
   "outputs": [],
   "source": [
    "#abre o arquivo para escrita\n",
    "\n",
    "file2 = open ('resultados.txt', 'w')"
   ]
  },
  {
   "cell_type": "code",
   "execution_count": null,
   "metadata": {},
   "outputs": [],
   "source": [
    "#escreve a lista de strings\n",
    "\n",
    "file2.writelines(lista)\n",
    "file2.close()"
   ]
  },
  {
   "cell_type": "code",
   "execution_count": null,
   "metadata": {},
   "outputs": [],
   "source": [
    "#abre para leitura e imprime no formato de lista\n",
    "\n",
    "file2 = open ('resultados.txt', 'r')\n",
    "file2.readlines()"
   ]
  },
  {
   "cell_type": "markdown",
   "metadata": {},
   "source": [
    "**Trabalhando com a instrução WITH**"
   ]
  },
  {
   "cell_type": "code",
   "execution_count": null,
   "metadata": {},
   "outputs": [],
   "source": [
    "#com a instrução WITH, não precisa fechar o arquivo explicitamente\n",
    "#o Python já fecha o arquivo quando os blocos não estão sendo utilizados\n",
    "\n",
    "with open ('resultados.txt') as file2:\n",
    "  print (file2.read())"
   ]
  },
  {
   "cell_type": "code",
   "execution_count": null,
   "metadata": {},
   "outputs": [],
   "source": [
    "#cria uma lista com as linhas do arquivo e depois fecha após concluir\n",
    "\n",
    "with open ('C:/Users/Pc Trabalho/Desktop/Studio Sun/Estudo/DSZ/mdrepo-master/automobile.csv') as file2:\n",
    "  data = file2.readlines()\n",
    "data"
   ]
  },
  {
   "cell_type": "code",
   "execution_count": null,
   "metadata": {
    "tags": [
     "outputPrepend"
    ]
   },
   "outputs": [],
   "source": [
    "for linha in data:\n",
    "  print (linha.split())"
   ]
  }
 ],
 "metadata": {
  "language_info": {
   "codemirror_mode": {
    "name": "ipython",
    "version": 3
   },
   "file_extension": ".py",
   "mimetype": "text/x-python",
   "name": "python",
   "nbconvert_exporter": "python",
   "pygments_lexer": "ipython3",
   "version": "3.7.6-final"
  },
  "orig_nbformat": 2,
  "kernelspec": {
   "name": "python3",
   "display_name": "Python 3"
  }
 },
 "nbformat": 4,
 "nbformat_minor": 2
}