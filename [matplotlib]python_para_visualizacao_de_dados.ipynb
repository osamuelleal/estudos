{
 "cells": [
  {
   "cell_type": "markdown",
   "metadata": {},
   "source": [
    "**Visualização de Dados com MatPlotLib**\n",
    "\n",
    "- Ideal para plotagem de gráficos simples\n",
    "\n",
    "- Aumenta a produtividade do cientista de dados\n",
    "\n",
    "- Fornece uma interface próxima do MatLab, o que é interessante para gráficos com expressões matemáticas\n",
    "\n",
    "- A maior desvantagem é o layout\n",
    "\n",
    "> **Quando utilizar?**\n",
    "- Útil para análise e exploração de dados"
   ]
  },
  {
   "cell_type": "code",
   "execution_count": null,
   "metadata": {},
   "outputs": [],
   "source": [
    "# Instalação da biblioteca\n",
    "# Caso não esteja usando anaconda instale o matplotlib com o gerenciador de pacotes pip ou usando o conda\n",
    "\n",
    "!pip install matplotlib"
   ]
  },
  {
   "cell_type": "code",
   "execution_count": null,
   "metadata": {},
   "outputs": [],
   "source": [
    "# Importando o pyplot\n",
    "\n",
    "from matplotlib import pyplot as plt"
   ]
  },
  {
   "cell_type": "code",
   "execution_count": null,
   "metadata": {},
   "outputs": [],
   "source": [
    "# Define que os gráficos sejam plotados na célula e podem ser ajustados\n",
    "\n",
    "%matplotlib notebook "
   ]
  },
  {
   "cell_type": "code",
   "execution_count": null,
   "metadata": {},
   "outputs": [],
   "source": [
    "# Define que os gráficos sejam plotados na célula e sejam fixos\n",
    "\n",
    "%matplotlib inline"
   ]
  },
  {
   "cell_type": "code",
   "execution_count": null,
   "metadata": {},
   "outputs": [],
   "source": [
    "# Plotando gráfico de linha simples\n",
    "\n",
    "from IPython.display import Image\n",
    "Image ('C:/Users/Pc Trabalho/Desktop/Studio Sun/Estudo/DSZ/PDF AULAS/MODULO6/Materiais-Apoio-Visualizacao-Dados/anatomia.png')"
   ]
  },
  {
   "cell_type": "markdown",
   "metadata": {},
   "source": [
    "**Gráfico de Linhas**\n",
    "\n",
    "- Normalmente utilizado para visualização de dados em uma linha do tempo\n",
    "- Utilizado com o eixo X relacionado a dados temporais e eixo Y a dados quantitativos\n",
    "- Cuidado ao plotar várias linhas, a leitura pode ficar prejudicada"
   ]
  },
  {
   "cell_type": "code",
   "execution_count": null,
   "metadata": {},
   "outputs": [],
   "source": [
    "import matplotlib.pyplot as plt\n",
    "\n",
    "\n",
    "\n",
    "# Eixo X, Eixo Y\n",
    "plt.plot([1,2,3,4], [1,4,9,16])\n",
    "plt.show()"
   ]
  },
  {
   "cell_type": "code",
   "execution_count": null,
   "metadata": {},
   "outputs": [],
   "source": [
    "# Definindo label aos eixos\n",
    "\n",
    "%matplotlib inline\n",
    "import matplotlib.pyplot as plt\n",
    "plt.plot([1,2,3,4], [1,4,9,16])\n",
    "plt.ylabel ('eixo y')\n",
    "plt.xlabel ('eixo x')\n",
    "plt.show()"
   ]
  },
  {
   "cell_type": "code",
   "execution_count": null,
   "metadata": {},
   "outputs": [],
   "source": [
    "# Alterando a forma dos pontos\n",
    "\n",
    "%matplotlib inline\n",
    "plt.plot([1,2,3,4], [1,4,9,16], 'o')\n",
    "plt.show()"
   ]
  },
  {
   "cell_type": "code",
   "execution_count": null,
   "metadata": {},
   "outputs": [],
   "source": [
    "# Definindo limites de visualização dos eixos x e y\n",
    "\n",
    "# Opções do método axis()\n",
    "%matplotlib inline\n",
    "\n",
    "# plot(x,y)\n",
    "plt.plot ([1,2,3,4], [1,4,9,16], 'o')\n",
    "\n",
    "#axis(xmin,xmax,ymin,ymax)\n",
    "plt.axis([0,6,0,20])            #[xmin,xmax,ymin,ymax]\n",
    "plt.show()"
   ]
  },
  {
   "cell_type": "code",
   "execution_count": null,
   "metadata": {},
   "outputs": [],
   "source": [
    "# Importa a biblioteca Numpy\n",
    "\n",
    "import numpy as np"
   ]
  },
  {
   "cell_type": "code",
   "execution_count": null,
   "metadata": {},
   "outputs": [],
   "source": [
    "# Plota duas séries de dados, no caso x1 e y2 e x3 e y3\n",
    "\n",
    "%matplotlib inline\n",
    "x1 = np.array([1,2,3,4,5,6,7,8,9,10,11])\n",
    "\n",
    "x2 = x1\n",
    "y2 = x1**2                 # número elevado ao quadrado\n",
    "\n",
    "x3 = x1\n",
    "y3 = x1**3                 # número elevado ao cubo\n",
    "\n",
    "plt.plot(x1, x1, 'r--', x2, y2, 'bs', x3, y3, 'g^')\n",
    "plt.show()"
   ]
  },
  {
   "cell_type": "code",
   "execution_count": null,
   "metadata": {},
   "outputs": [],
   "source": [
    "# Plotando gráfico de barras verticais (gráfico de colunas)\n",
    "\n",
    "%matplotlib inline\n",
    "grupos = ['Produto A', 'Produto B', 'Produto C']\n",
    "valores = [1,10,100]\n",
    "\n",
    "plt.bar(grupos, valores)\n",
    "plt.show()"
   ]
  },
  {
   "cell_type": "code",
   "execution_count": null,
   "metadata": {},
   "outputs": [],
   "source": [
    "# Plota gráficos de barras juntas\n",
    "\n",
    "import numpy as np\n"
   ]
  },
  {
   "cell_type": "code",
   "execution_count": null,
   "metadata": {},
   "outputs": [],
   "source": [
    "%matplotlib inline\n",
    "\n",
    "# Quantidade de vendas para o Produto A\n",
    "valores_produto_A = [6,7,8,4,4]\n",
    "\n",
    "# Quantidade de vendas para o Produto B\n",
    "valores_produto_B = [3,12,3,4.1,6]\n",
    "\n",
    "# Cria eixo x para produto A e produto B com uma separação de 0.25 entre as barras\n",
    "x1 = np.arange (len(valores_produto_A))\n",
    "x2 = [x + 0.25 for x in x1]\n",
    "\n",
    "# Plota as barras\n",
    "plt.bar (x1, valores_produto_A, width=0.25, label = 'Produto A', color = 'b')\n",
    "plt.bar (x2, valores_produto_B, width=0.25, label = 'Produto B', color = 'y')\n",
    "\n",
    "meses = ['Agosto', 'Setembro', 'Outubro', 'Novembro', 'Dezembro']\n",
    "plt.xticks ([x + 0.25 for x in range (len (valores_produto_A))], meses)\n",
    "\n",
    "plt.legend()\n",
    "\n",
    "plt.title ('Quantidade de Vendas')\n",
    "plt.show()"
   ]
  },
  {
   "cell_type": "markdown",
   "metadata": {},
   "source": [
    "**Gráfico de barras horizontais**\n",
    "\n",
    "- Gráfico muito usado quando queremos fazer comparações\n",
    "- Muito usado em pesquisa de campanhas eleitorais\n",
    "- Leitura muito simples e intuitiva\n",
    "- Funciona bem quando os labels dos eixos são longos"
   ]
  },
  {
   "cell_type": "code",
   "execution_count": null,
   "metadata": {},
   "outputs": [],
   "source": [
    "import matplotlib.pyplot as plt\n",
    "%matplotlib inline\n",
    "grupos = ['Produto A', 'Produto B', 'Produto C']\n",
    "valores = [1,10,100]\n",
    "\n",
    "plt.barh(grupos, valores)\n",
    "plt.show()"
   ]
  },
  {
   "cell_type": "code",
   "execution_count": null,
   "metadata": {},
   "outputs": [],
   "source": [
    "# Rotacionando Labels\n",
    "\n",
    "%matplotlib inline\n",
    "grupos = ['Produto A', 'Produto B', 'Produto C']\n",
    "valores = [1,10,100]\n",
    "\n",
    "plt.barh(grupos, valores)\n",
    "plt.yticks(rotation=45)\n",
    "plt.show()"
   ]
  },
  {
   "cell_type": "markdown",
   "metadata": {},
   "source": [
    "**Gráfico de Pizza**"
   ]
  },
  {
   "cell_type": "code",
   "execution_count": null,
   "metadata": {},
   "outputs": [],
   "source": [
    "%matplotlib inline\n",
    "vendas = [3000,2300,1000,500]\n",
    "labels = ['Ecommerce', 'Loja Física', 'Email', 'Marketplace']\n",
    "\n",
    "plt.pie(vendas, labels=labels)\n",
    "plt.show()"
   ]
  },
  {
   "cell_type": "markdown",
   "metadata": {},
   "source": [
    "**Customizando Gráficos**\n",
    "\n",
    "> Adicionando informações de percentual, sombra, separação das partes e legenda"
   ]
  },
  {
   "cell_type": "code",
   "execution_count": null,
   "metadata": {},
   "outputs": [],
   "source": [
    "%matplotlib inline\n",
    "\n",
    "vendas = [3000,2300,1000,500]\n",
    "labels = ['Ecommerce','Loja Física','Email','Marketplace']\n",
    "\n",
    "# Define o nível de separabilidade entre as partes, ordem do vetor representa as partes\n",
    "explode = (0.1,0,0,0)\n",
    "\n",
    "plt.pie(vendas, labels=labels, autopct='%1.1f%%', shadow=True, explode=explode)\n",
    "plt.legend(labels, loc=2)\n",
    "\n",
    "# Define que o gráfico será plotado em círculo\n",
    "plt.axis('equal')\n",
    "\n",
    "plt.show()"
   ]
  },
  {
   "cell_type": "markdown",
   "metadata": {},
   "source": [
    "**Matplotlib, Pyplot e Pylab**\n",
    "\n",
    "- Pyplot é um módulo do pacote matplotlib que implicitamente cria figuras e eixos nos gráficos\n",
    "- Pylab é outro módulo do matplotlib que já importa o numpy e o pyplot. Este módulo é projetado para plots de arrays e cálculos matemáticos\n",
    "- Pylab está depreciado"
   ]
  },
  {
   "cell_type": "code",
   "execution_count": null,
   "metadata": {},
   "outputs": [],
   "source": [
    "# Importando o matplotlib e o numpy\n",
    "import matplotlib.pyplot as plt\n",
    "import numpy as np\n",
    "\n",
    "# Cria uma figura\n",
    "fig = plt.figure()\n",
    "\n",
    "# Define eixos\n",
    "ax = fig.add_subplot(111)\n",
    "\n",
    "# Scatter plot usando numpy\n",
    "ax.scatter(np.linspace(0,1,5), np.linspace(0,5,5))\n",
    "\n",
    "# Show the plot\n",
    "plt.show()"
   ]
  },
  {
   "cell_type": "markdown",
   "metadata": {},
   "source": [
    "**Criando subplots**\n",
    "- Para criar subplots defina o número de linhas de gráficos e números de coluna (quantidade de gráficos em cada linha)"
   ]
  },
  {
   "cell_type": "code",
   "execution_count": null,
   "metadata": {},
   "outputs": [],
   "source": [
    "plt.subplots(nrows=1,ncols=2);"
   ]
  },
  {
   "cell_type": "code",
   "execution_count": null,
   "metadata": {},
   "outputs": [],
   "source": [
    "# 1 linha com 3 colunas\n",
    "\n",
    "plt.subplots(nrows=1,ncols=3)"
   ]
  },
  {
   "cell_type": "code",
   "execution_count": null,
   "metadata": {},
   "outputs": [],
   "source": [
    "# 2 linhas com 2 colunas\n",
    "\n",
    "plt.subplots(nrows=2,ncols=2)"
   ]
  },
  {
   "cell_type": "code",
   "execution_count": null,
   "metadata": {},
   "outputs": [],
   "source": [
    "#Para acessar subplots usa-se o método subplot (atenção para o nome correto no singular)\n",
    "\n",
    "x = [1,2,3,4]\n",
    "y = [10,20,25,40]\n",
    "\n",
    "plt.subplot(1,2,1)\n",
    "plt.plot(x,y,'o')\n",
    "\n",
    "plt.subplot(1,2,2)\n",
    "plt.plot(x,y,color='r');"
   ]
  },
  {
   "cell_type": "markdown",
   "metadata": {},
   "source": [
    "**Criação de instâncias de classes figure**\n",
    "- Aumenta o controle do nível de customização das funções do matplotlib \n",
    "- Gera menos código devido a orientação a objetos"
   ]
  },
  {
   "cell_type": "code",
   "execution_count": null,
   "metadata": {},
   "outputs": [],
   "source": [
    "# Cria um objeto do tipo figure\n",
    "\n",
    "fig = plt.figure()\n",
    "\n",
    "# Define o tamanho em percentual do gráfico\n",
    "# Altura e largura do eixo na figura\n",
    "axes_a = fig.add_axes([0.1,0.1,0.8,0.8])\n",
    "\n",
    "# Plota o gráfico\n",
    "axes_a.plot(x,y)"
   ]
  },
  {
   "cell_type": "code",
   "execution_count": null,
   "metadata": {},
   "outputs": [],
   "source": [
    "# Cria um objeto do tipo figure\n",
    "\n",
    "fig = plt.figure()\n",
    "\n",
    "# Define o tamanho em percentual do gráfico\n",
    "# Altura e largura do eixo na figura\n",
    "axes_a = fig.add_axes([0.1,0.1,0.8,0.8])\n",
    "axes_b = fig.add_axes([0.2,0.5,0.3,0.3])\n",
    "\n",
    "# Plota a figura com dois eixos\n",
    "# O \"r--\" significa linha tracejada em vermelho (r)\n",
    "# Plota o gráfico\n",
    "axes_a.plot(x,y)\n",
    "axes_b.plot(x,y,'r--');"
   ]
  },
  {
   "cell_type": "markdown",
   "metadata": {},
   "source": [
    "**É possível customizar a largura ou altura do gráfico para acomodar melhor seus dados**\n",
    "> Exemplo: gráfico de dados financeiros em uma granulidade muito baixa (minutos)"
   ]
  },
  {
   "cell_type": "code",
   "execution_count": null,
   "metadata": {},
   "outputs": [],
   "source": [
    "import matplotlib.pyplot as plt\n",
    "x = [1,2,3,4]\n",
    "y = [10,20,25,40]\n",
    "\n",
    "# Altera a largura e altura do gráfico (width, height)\n",
    "fig, ax = plt.subplots(figsize=(20,5))\n",
    "\n",
    "# Plota o gráfico\n",
    "ax.plot(x,y,'r--')"
   ]
  },
  {
   "cell_type": "code",
   "execution_count": null,
   "metadata": {},
   "outputs": [],
   "source": [
    "# Plotando dois gráficos (Eixos) na mesma figura\n",
    "\n",
    "# Define as configurações dos plots\n",
    "# Cada plot terá o mesmo tamanho de figuras\n",
    "fig, (ax1,ax2) = plt.subplots(1,2,figsize=(10,5))\n",
    "\n",
    "# Dados para cada subplot\n",
    "ax1.bar([1,2,3],[3,4,5])\n",
    "ax2.barh([0.5,1,2.5],[0,1,2])\n",
    "\n",
    "plt.show()"
   ]
  },
  {
   "cell_type": "code",
   "execution_count": null,
   "metadata": {},
   "outputs": [],
   "source": [
    "# Define configurações dos eixos com o método set()\n",
    "\n",
    "# Define as configurações dos plots\n",
    "# Cada Plot terá o mesmo tamanho de figuras\n",
    "fig, (ax1,ax2) = plt.subplots(1,2,figsize=(10,5))\n",
    "\n",
    "# Dados para cada subplot \n",
    "ax1.bar([1,2,3],[3,4,5],color='r')\n",
    "ax2.barh([0.5,1,2.5],[0,1,2])\n",
    "\n",
    "# Usa o método set para definir configurações do gráfico\n",
    "ax1.set(title='Gráfico de barras verticais', xlabel='Eixo X', ylabel='Eixo Y')\n",
    "ax2.set(title='Gráfico de barras horizontais', xlabel='Eixo X', ylabel='Eixo Y')\n",
    "\n",
    "plt.show()"
   ]
  },
  {
   "cell_type": "markdown",
   "metadata": {},
   "source": [
    "**Customizando layouts**"
   ]
  },
  {
   "cell_type": "code",
   "execution_count": null,
   "metadata": {},
   "outputs": [],
   "source": [
    "import matplotlib.pyplot as plt\n",
    "\n",
    "# Define o estilo para o ggplot\n",
    "plt.style.use('ggplot')"
   ]
  },
  {
   "cell_type": "code",
   "execution_count": null,
   "metadata": {},
   "outputs": [],
   "source": [
    "import matplotlib.pyplot as plt\n",
    "\n",
    "# Define as configurações dos plots\n",
    "# Cada plot terá o mesmo tamanho de figuras (10,5)\n",
    "fig, (ax1,ax2) = plt.subplots (1,2,figsize=(10,5))\n",
    "\n",
    "# Dados para cada subplot\n",
    "ax1.bar([1,2,3],[3,4,5])\n",
    "ax2.barh([0.5,1,2.5],[0,1,2])\n",
    "\n",
    "ax1.set (title='Gráfico de barras verticais', xlabel='eixo x', ylabel='eixo y')\n",
    "ax2.set (title='Gráfico de barras horizontais', xlabel='eixo x', ylabel='eixo y')\n",
    "\n",
    "plt.show()"
   ]
  },
  {
   "cell_type": "markdown",
   "metadata": {},
   "source": [
    "**Matplotlib funciona também com cores em RGB. Para fazer isso use o parâmetro color**"
   ]
  },
  {
   "cell_type": "code",
   "execution_count": null,
   "metadata": {},
   "outputs": [],
   "source": [
    "# Define as configurações dos plots\n",
    "# Cada plot terá o mesmo tamanho de figuras (10,5)\n",
    "fig, (ax1,ax2) = plt.subplots (1,2,figsize=(10,5))\n",
    "\n",
    "# Dados para cada subplot\n",
    "ax1.bar([1,2,3],[3,4,5], color='#00BFFF')\n",
    "ax2.barh([0.5,1,2.5],[0,1,2], color='#00FF00')\n",
    "\n",
    "ax1.set (title='Gráfico de barras verticais', xlabel='eixo x', ylabel='eixo y')\n",
    "ax2.set (title='Gráfico de barras horizontais', xlabel='eixo x', ylabel='eixo y')\n",
    "\n",
    "plt.show()"
   ]
  },
  {
   "cell_type": "markdown",
   "metadata": {},
   "source": [
    "**Adiciona textos em gráficos**"
   ]
  },
  {
   "cell_type": "code",
   "execution_count": null,
   "metadata": {},
   "outputs": [],
   "source": [
    "# Importar as bibliotecas matplotlib e numpy\n",
    "import numpy as np\n",
    "import matplotlib.pyplot as plt\n",
    "\n",
    "# Chamar o gráfico\n",
    "%matplotlib inline\n",
    "\n",
    "# 100 valores no intervalo de 0 a 2\n",
    "x = np.linspace(0,2,num=100)\n",
    "\n",
    "# Define a legenda e o tamanho das linhas\n",
    "plt.plot(x,x,label='Linear')\n",
    "plt.plot(x,x**2,label='Quadrático', linewidth=5)\n",
    "\n",
    "plt.xlabel('X label')\n",
    "plt.ylabel('Y label')\n",
    "\n",
    "plt.title('Gráfico de linhas simples')\n",
    "\n",
    "# Exibe a legenda e por padrão usa o label de cada post\n",
    "plt.legend()\n",
    "\n",
    "# Configurações do texto\n",
    "plt.text( 1.000, 1.0, \"Cruzamento das linhas\", fontsize=10, horizontalalignment='right')\n",
    "\n",
    "plt.show()"
   ]
  },
  {
   "cell_type": "markdown",
   "metadata": {},
   "source": [
    "**Plotando histogramas**\n",
    "- Histogramas são úteis quando queremos visualizar a distribuição de uma variável\n",
    "- Esse é um gráfico muito utilizado em estatística descritiva\n",
    "- Facilita a visualização de dados extremos\n",
    "- É útil em tarefas de análise e exploração de dados"
   ]
  },
  {
   "cell_type": "code",
   "execution_count": null,
   "metadata": {},
   "outputs": [],
   "source": [
    "# Gerando dados aleatórios com média em torno de 0 e desvio padrão em torno de 1\n",
    "d = np.random.normal(0,1,size=500)"
   ]
  },
  {
   "cell_type": "code",
   "execution_count": null,
   "metadata": {},
   "outputs": [],
   "source": [
    "# Plota histograma com 10 bins\n",
    "%matplotlib inline\n",
    "plt.hist(d,bins=10,color='r');"
   ]
  },
  {
   "cell_type": "markdown",
   "metadata": {},
   "source": [
    "**Trabalhando com dataframes Pandas**\n",
    "- O Matplotlib trabalha bem com o Pandas\n",
    "- É possível usar recursos de dataframes usando o parâmetro data"
   ]
  },
  {
   "cell_type": "code",
   "execution_count": null,
   "metadata": {},
   "outputs": [],
   "source": [
    "# Importando o pandas, numpy e matplotlib\n",
    "import pandas as pd\n",
    "import numpy as np\n",
    "import matplotlib.pyplot as plt"
   ]
  },
  {
   "cell_type": "code",
   "execution_count": null,
   "metadata": {},
   "outputs": [],
   "source": [
    "# Cria um dicionário de valores\n",
    "data = {\n",
    "    'a' : np.arange(50),\n",
    "    'c' : np.random.randint(0,50,50),\n",
    "    'd' : np.random.randn(50)\n",
    "}"
   ]
  },
  {
   "cell_type": "code",
   "execution_count": null,
   "metadata": {},
   "outputs": [],
   "source": [
    "data = pd.DataFrame(data)\n",
    "data.head()"
   ]
  },
  {
   "cell_type": "code",
   "execution_count": null,
   "metadata": {},
   "outputs": [],
   "source": [
    "# Gera dados aleatórios para colunas b e d\n",
    "data ['b'] = data ['a'] + 10 * np.random.randn (50)\n",
    "data ['d'] = np.abs(data['d']) * 200\n",
    "\n",
    "data.b.head()"
   ]
  },
  {
   "cell_type": "code",
   "execution_count": null,
   "metadata": {},
   "outputs": [],
   "source": [
    "# Dados absolutos\n",
    "data.d.head()"
   ]
  },
  {
   "cell_type": "code",
   "execution_count": null,
   "metadata": {},
   "outputs": [],
   "source": [
    "data.head()"
   ]
  },
  {
   "cell_type": "code",
   "execution_count": null,
   "metadata": {},
   "outputs": [],
   "source": [
    "# Plota gráfico de disperssão usando Pandas DataFrame\n",
    "plt.scatter('a','b',c='c',s='d',data=data)\n",
    "plt.xlabel('entry a')\n",
    "plt.ylabel('entry b')\n",
    "plt.show()"
   ]
  }
 ],
 "metadata": {
  "language_info": {
   "codemirror_mode": {
    "name": "ipython",
    "version": 3
   },
   "file_extension": ".py",
   "mimetype": "text/x-python",
   "name": "python",
   "nbconvert_exporter": "python",
   "pygments_lexer": "ipython3",
   "version": "3.7.6-final"
  },
  "orig_nbformat": 2,
  "kernelspec": {
   "name": "python3",
   "display_name": "Python 3"
  }
 },
 "nbformat": 4,
 "nbformat_minor": 2
}