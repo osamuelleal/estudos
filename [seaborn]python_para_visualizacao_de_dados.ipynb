{
 "cells": [
  {
   "cell_type": "markdown",
   "metadata": {},
   "source": [
    "**Visualização de Dados - Trabalhando com Seaborn**\n",
    "- Biblioteca para visualização de dados baseada em matplotlib\n",
    "- Interface de alto nível para gráficos estatísticos\n",
    "- Fornece uma interface atraente e profissional para os gráficos \n",
    "- Simples e muito intuitivo de usar"
   ]
  },
  {
   "cell_type": "markdown",
   "metadata": {},
   "source": [
    "**Quando utilizar?**\n",
    "- Útil para análise e exploração de dados\n",
    "- Apresentar análises visuais"
   ]
  },
  {
   "cell_type": "code",
   "execution_count": null,
   "metadata": {},
   "outputs": [],
   "source": [
    "# Instalação da biblioteca Seaborn\n",
    "\n",
    "!pip install seaborn==0.9.0"
   ]
  },
  {
   "cell_type": "code",
   "execution_count": null,
   "metadata": {},
   "outputs": [],
   "source": [
    "# Datasets\n",
    "\n",
    "import seaborn as sns\n",
    "\n",
    "df_tips = sns.load_dataset('tips')\n",
    "\n",
    "df_tips.head()"
   ]
  },
  {
   "cell_type": "markdown",
   "metadata": {},
   "source": [
    "**Visualizando relações estatísticas nos dados**\n",
    "  > A análise estatística é o processo de entender como variáveis no conjunto de dados se relacionam uma com a outra e como essas relações dependem de outras variáveis.\n",
    "\n",
    "  > A visualização de dados se torna uma peça essencial nesse processo, pois, quando os dados são visualizados adequadamente, as pessoas conseguem descobrir padrões que indicam relações nos dados."
   ]
  },
  {
   "cell_type": "markdown",
   "metadata": {},
   "source": [
    "**Função relplot()**\n",
    "\n",
    "> Método de alto nível para visualização de relações estatísticas entre as variáveis. O método relplot() já combina o scatter plot e o line plot\n",
    "\n",
    "> Muito útil para ver relações entre duas ou mais variáveis com o uso de parametros de semântica dos dados"
   ]
  },
  {
   "cell_type": "markdown",
   "metadata": {},
   "source": [
    "**Relação de variáveis com scatter plot**\n",
    " > Visualizando a relação entre a variável valor total da conta e gorjeta"
   ]
  },
  {
   "cell_type": "code",
   "execution_count": null,
   "metadata": {},
   "outputs": [],
   "source": [
    "tips = sns.load_dataset('tips') \n",
    "sns.relplot(x = 'total_bill',  y = 'tip', data = tips);"
   ]
  },
  {
   "cell_type": "code",
   "execution_count": null,
   "metadata": {},
   "outputs": [],
   "source": [
    "# Visualizando a relação entre as variáveis total da conta, gorjeta e colorindo cada ponto com a variável smoker (fumante)\n",
    "\n",
    "sns.relplot(x='total_bill', y='tip', hue='smoker', data=tips);"
   ]
  },
  {
   "cell_type": "code",
   "execution_count": null,
   "metadata": {},
   "outputs": [],
   "source": [
    "# Visualizando a relação entre as variáveis total da conta, gorjeta e colorindo cada ponto com a variável sex\n",
    "\n",
    "sns.relplot(x='total_bill', y='tip', hue='sex', data=tips);"
   ]
  },
  {
   "cell_type": "code",
   "execution_count": null,
   "metadata": {},
   "outputs": [],
   "source": [
    "# Visualizando relação entre as variáveis total da conta e gorjeta, colorindo cada ponto com a variável sex e definindo um estilo também na variável sex\n",
    "\n",
    "sns.relplot(x='total_bill', y='tip', hue='sex', style='sex', data=tips );"
   ]
  },
  {
   "cell_type": "code",
   "execution_count": null,
   "metadata": {},
   "outputs": [],
   "source": [
    "# É possível representar quatro variáveis alterando a tonalidade e estilo de cada ponto. Mas é preciso cautela, pois, a visualização pode ficar confusa\n",
    "\n",
    "sns.relplot(x='total_bill', y='tip', hue='sex', style='smoker', data=tips);"
   ]
  },
  {
   "cell_type": "code",
   "execution_count": null,
   "metadata": {},
   "outputs": [],
   "source": [
    "# Em casos de variáveis númericas, para definir a tonalidade a paleta de cores altera de forma sequencial\n",
    "\n",
    "sns.relplot(x='total_bill', y='tip', hue='size', data=tips);"
   ]
  },
  {
   "cell_type": "markdown",
   "metadata": {},
   "source": [
    "**É possível customizar a paleta de cores**\n",
    "> É só pesquisar no site do SEABORN"
   ]
  },
  {
   "cell_type": "code",
   "execution_count": null,
   "metadata": {},
   "outputs": [],
   "source": [
    "# Usando a opção size para definir o tamanho de cada ponto baseado em alguma coluna da base de dados\n",
    "\n",
    "sns.relplot(x='total_bill', y='tip',size='size',data=tips);"
   ]
  },
  {
   "cell_type": "code",
   "execution_count": null,
   "metadata": {},
   "outputs": [],
   "source": [
    "sns.relplot(x='total_bill', y='tip',size='size',sizes=(15,300),data=tips);"
   ]
  },
  {
   "cell_type": "markdown",
   "metadata": {},
   "source": [
    "**Scatter Plot**\n",
    "- Caso não queira utilizar o relplot(), o método scatterplot() já atende perfeitamente quando queremos ver relações dos dados\n",
    "- A única diferença é que o scatterplot plota gráficos de dispersão apenas, logo este não contem a função lineplot()"
   ]
  },
  {
   "cell_type": "code",
   "execution_count": null,
   "metadata": {},
   "outputs": [],
   "source": [
    "# Visualizando relação entre as 4 variáveis total_bill, tipo, day, smoker\n",
    "\n",
    "import seaborn as sns\n",
    "\n",
    "df_tips = sns.load_dataset('tips')\n",
    "\n",
    "%matplotlib inline\n",
    "tips = sns.load_dataset('tips')\n",
    "sns.scatterplot(x = 'total_bill', y ='tip', hue ='day', style ='time', data = tips);"
   ]
  },
  {
   "cell_type": "markdown",
   "metadata": {},
   "source": [
    "**Redimensionando figuras no Seaborn**"
   ]
  },
  {
   "cell_type": "code",
   "execution_count": null,
   "metadata": {},
   "outputs": [],
   "source": [
    "import matplotlib.pyplot as plt"
   ]
  },
  {
   "cell_type": "code",
   "execution_count": null,
   "metadata": {},
   "outputs": [],
   "source": [
    "f, ax = plt.subplots (figsize=(12,5))\n",
    "sns.scatterplot (x = 'total_bill', y = 'tip', hue = 'day', data = tips);"
   ]
  },
  {
   "cell_type": "markdown",
   "metadata": {},
   "source": [
    "**Usando cores no Seaborn**\n",
    "- A função que controla as cores no seaborn e a color_palette()\n",
    "- Essa função fornece uma interface para gerar cores no seaborn\n",
    "- Usamos esse método internamente ao usar o parametro pallete\n",
    "- O método color_palette() recebe o nome de uma paleta de cores do seaborn ou um colormap do matplotlib\n",
    "- O método set_palette recebe os mesmos parametros e é usado para definir um estilo padrão para todos os plots \n",
    "- As cores devem ser definidas levando em consideração o tipo de dado que queremos plotar. (qualitativo, sequencial ou divergente)\n",
    "\n",
    "> Ferramenta Color Brewer\n",
    "- https://colorbrewer2.org/#type=sequential&scheme=BuGn&n=3"
   ]
  },
  {
   "cell_type": "code",
   "execution_count": null,
   "metadata": {},
   "outputs": [],
   "source": [
    "# Paleta de cores para dados quantitativos\n",
    "sns.palplot(sns.color_palette('Accent'))"
   ]
  },
  {
   "cell_type": "code",
   "execution_count": null,
   "metadata": {},
   "outputs": [],
   "source": [
    "# Paleta de cores para dados divergentes\n",
    "sns.palplot(sns.color_palette('PuOr'))"
   ]
  },
  {
   "cell_type": "code",
   "execution_count": null,
   "metadata": {},
   "outputs": [],
   "source": [
    "# Paleta de cores para dados sequencial\n",
    "sns.palplot(sns.color_palette('Blues'))"
   ]
  },
  {
   "cell_type": "code",
   "execution_count": null,
   "metadata": {},
   "outputs": [],
   "source": [
    "# Gráfico usando a paleta de cor sequencial \"Blues\"\n",
    "sns.relplot(x = 'total_bill', y = 'tip', hue = 'size', palette = 'Blues', size = 'size', sizes = (12,500), data = tips);"
   ]
  },
  {
   "cell_type": "code",
   "execution_count": null,
   "metadata": {},
   "outputs": [],
   "source": [
    "# Gráfico usando a paleta de cor sequencial \"Purple\" do site Color Brewer\n",
    "sns.relplot(x = 'total_bill', y = 'tip', hue = 'size', palette = 'Purples', size = 'size', sizes = (12,500), data = tips);"
   ]
  },
  {
   "cell_type": "markdown",
   "metadata": {},
   "source": [
    "**Gráfico usando a paleta de cor qualitativa 'Set2'**\n",
    "- Paleta de cor ideal para plotar dados categóricos"
   ]
  },
  {
   "cell_type": "code",
   "execution_count": null,
   "metadata": {},
   "outputs": [],
   "source": [
    "sns.catplot (x = 'sex', kind = 'count', palette='Set2', data=tips);"
   ]
  },
  {
   "cell_type": "code",
   "execution_count": null,
   "metadata": {},
   "outputs": [],
   "source": [
    "# Gráfico usando a paleta de cor divergente 'PiYG'\n",
    "sns.heatmap(tips.corr(), annot=True, cmap='PiYG');"
   ]
  },
  {
   "cell_type": "code",
   "execution_count": null,
   "metadata": {},
   "outputs": [],
   "source": [
    "# Definindo cores padrão para gráficos seaborn\n",
    "sns.set_palette('pastel')\n",
    "\n",
    "# Plot usando a paleta de cor 'pastel'\n",
    "sns.relplot(x='total_bill', y='tip', data = tips);"
   ]
  },
  {
   "cell_type": "markdown",
   "metadata": {},
   "source": [
    "**Instrução with para definir cor temporariamente**"
   ]
  },
  {
   "cell_type": "code",
   "execution_count": null,
   "metadata": {},
   "outputs": [],
   "source": [
    "# Plota o gráfico definindo uma opção de cor temporária\n",
    "with sns.color_palette('Accent'):\n",
    "    sns.relplot(x='total_bill', y='tip', size='size', sizes=(12,250), data= tips);"
   ]
  },
  {
   "cell_type": "markdown",
   "metadata": {},
   "source": [
    "**Plotando dados categóricos**\n",
    "- Quando trabalhamos com variáveis categóricas temos que visualizar dados de formas diferentes\n",
    "- O seaborn fornece o método catplot() que já contem diversos tipos de gráficos embutidos\n",
    "- Isso facilita, pois, você pode usar diferentes gráficos usando o mesmo método"
   ]
  },
  {
   "cell_type": "code",
   "execution_count": null,
   "metadata": {},
   "outputs": [],
   "source": [
    "# Carregando dataset\n",
    "import seaborn as sns\n",
    "tips = sns.load_dataset('tips')"
   ]
  },
  {
   "cell_type": "code",
   "execution_count": null,
   "metadata": {},
   "outputs": [],
   "source": [
    "# Gráficos de barras ou também conhecidos como gráficos de colunas\n",
    "sns.catplot(x='sex', kind='count', palette='Set2', data=tips);"
   ]
  },
  {
   "cell_type": "code",
   "execution_count": null,
   "metadata": {},
   "outputs": [],
   "source": [
    "# Gráfico de barras horizontais usando a coluna day\n",
    "sns.catplot(y='day', kind='count', palette='Set1', data=tips);"
   ]
  },
  {
   "cell_type": "code",
   "execution_count": null,
   "metadata": {},
   "outputs": [],
   "source": [
    "# Scatter plot com dados categóricos\n",
    "sns.catplot(x='day', y='total_bill', palette='Set2', data=tips);"
   ]
  },
  {
   "cell_type": "code",
   "execution_count": null,
   "metadata": {},
   "outputs": [],
   "source": [
    "# O parametro swarm evita sobreposição de pontos\n",
    "sns.catplot(x='day', y='total_bill', kind='swarm', data=tips);"
   ]
  },
  {
   "cell_type": "code",
   "execution_count": null,
   "metadata": {},
   "outputs": [],
   "source": [
    "# O paramentro hue permite adicionarmos uma terceira variável a nossa visualização\n",
    "sns.catplot(x='day', y='total_bill', kind='swarm', hue='sex', palette='Dark2', data=tips);"
   ]
  },
  {
   "cell_type": "markdown",
   "metadata": {},
   "source": [
    "- O parametro order permite alterarmos a ordem padrão das categorias que estão sendo exibidas\n",
    "- Isso é útil quando temos mais de um gráfico na mesma figura e queremos manter as mesmas ordens"
   ]
  },
  {
   "cell_type": "code",
   "execution_count": null,
   "metadata": {},
   "outputs": [],
   "source": [
    "sns.catplot (x='day', y='total_bill', kind= 'swarm', hue='sex', order= ['Sat','Sun','Fri','Thur'], data=tips);"
   ]
  },
  {
   "cell_type": "code",
   "execution_count": null,
   "metadata": {},
   "outputs": [],
   "source": [
    "# Invertendo a visualização para plots horizontais\n",
    "sns.catplot(x='total_bill', y='day', kind='swarm', data=tips);"
   ]
  },
  {
   "cell_type": "markdown",
   "metadata": {},
   "source": [
    "**Gráficos com Regressão**\n",
    "- Quando temos muitas variáveis quantitativas em nossos dados, é interessante visualizar como estas se relacionam\n",
    "- Podemos visualizar essas informações com linhas de regressão\n",
    "- Com modelos de regressão simples é possível checar se existe alguma correlação entre algumas variáveis"
   ]
  },
  {
   "cell_type": "code",
   "execution_count": null,
   "metadata": {},
   "outputs": [],
   "source": [
    "# Importando a biblioteca seaborn e o dataset embutido nela como exemplo\n",
    "import seaborn as sns\n",
    "import matplotlib\n",
    "tips = sns.load_dataset('tips')"
   ]
  },
  {
   "cell_type": "code",
   "execution_count": null,
   "metadata": {},
   "outputs": [],
   "source": [
    "# Exibe a linha de regressão para visualizar \n",
    "%matplotlib inline\n",
    "sns.lmplot(x='total_bill', y='tip', hue='sex', palette='Pastel1', data=tips);"
   ]
  },
  {
   "cell_type": "code",
   "execution_count": null,
   "metadata": {},
   "outputs": [],
   "source": [
    "# Usando o parametro col para separar os gráficos pelo valor da coluna categórica time\n",
    "%matplotlib inline\n",
    "sns.lmplot(x='total_bill', y='tip', hue='smoker', col='time', palette='Set2', data=tips);"
   ]
  },
  {
   "cell_type": "code",
   "execution_count": null,
   "metadata": {},
   "outputs": [],
   "source": [
    "# Parâmetros scatter_kws e line_kws\n",
    "\n",
    "%matplotlib inline\n",
    "sns.lmplot(\n",
    "    x='total_bill',\n",
    "    y='tip',\n",
    "    hue='smoker',\n",
    "    col='time',\n",
    "    palette='Set1',\n",
    "    data=tips,\n",
    "    scatter_kws={'s': 90, 'alpha': 0.5},\n",
    "    line_kws= {'lw': 4}\n",
    ");"
   ]
  },
  {
   "cell_type": "code",
   "execution_count": null,
   "metadata": {},
   "outputs": [],
   "source": [
    "# Separando gráficos pelo parâmetro col e pelo parâmetro row\n",
    "%matplotlib inline\n",
    "sns.lmplot(x='total_bill', y='tip',hue='smoker', col='time', row='sex', palette='Set2', data=tips);"
   ]
  },
  {
   "cell_type": "markdown",
   "metadata": {},
   "source": [
    "**Visualizando distribuição de observações**\n",
    "- Um dataset muito grande será difícil de visualizar variáveis categóricas\n",
    "- É preciso sumarizar a distribuição dos dados para facilitar a visualização\n",
    "- Podemos usar um gráfico do tipo Boxplot para visualizar a distribuição de tais variáveis\n",
    "- Esse tipo de gráfico é muito útil para visualizar outliers"
   ]
  },
  {
   "cell_type": "code",
   "execution_count": null,
   "metadata": {},
   "outputs": [],
   "source": [
    "# Boxplot de dias da semana por total de conta\n",
    "sns.catplot(x='day', y='total_bill', kind='box', data=tips);"
   ]
  },
  {
   "cell_type": "code",
   "execution_count": null,
   "metadata": {},
   "outputs": [],
   "source": [
    "# Gráfico de boxplot dos dias por total de conta e se a pessoa é fumante ou não\n",
    "sns.catplot(x='day', y='total_bill', hue='smoker', kind='box', data=tips);"
   ]
  },
  {
   "cell_type": "code",
   "execution_count": null,
   "metadata": {},
   "outputs": [],
   "source": [
    "# Tipo de boxplot com foco maior na forma dos dados do que nos outliers\n",
    "# Esse tipo de gráfico é interessante quando temos grandes datasets\n",
    "sns.catplot(x='day', y='total_bill', kind='boxen', data=tips);"
   ]
  },
  {
   "cell_type": "code",
   "execution_count": null,
   "metadata": {},
   "outputs": [],
   "source": [
    "# O método stripplot permite plotar a distribuição dos dados\n",
    "# Podemos combinar os dois gráficos para ter mais informação\n",
    "sns.catplot(x='day', y='total_bill', kind='boxen', data=tips);\n",
    "sns.stripplot(x='day', y='total_bill', data=tips, color='green');"
   ]
  },
  {
   "cell_type": "code",
   "execution_count": null,
   "metadata": {},
   "outputs": [],
   "source": [
    "# O método catplot() permite usarmos facegrid assim podemos combinar gráficos em uma única figura\n",
    "%matplotlib inline\n",
    "sns.catplot(x='sex', y='total_bill', hue='smoker', col='time', data=tips, kind='boxen', height=4);"
   ]
  },
  {
   "cell_type": "markdown",
   "metadata": {},
   "source": [
    "**Violin Plot**\n",
    "- Gráfico ideal para visualizar a distribuição de variáveis\n",
    "- Combinação do Boxplot com o KDE\n",
    "- Funciona bem para distribuição com pico\n",
    "- Permite uma visualização mais rica do que com o Boxplot normal"
   ]
  },
  {
   "cell_type": "code",
   "execution_count": null,
   "metadata": {},
   "outputs": [],
   "source": [
    "# Violin Plot\n",
    "sns.catplot(x='day', y='total_bill', kind='violin', data=tips);"
   ]
  },
  {
   "cell_type": "code",
   "execution_count": null,
   "metadata": {},
   "outputs": [],
   "source": [
    "# Violin Plot horizontal\n",
    "sns.catplot(x='total_bill', y='day', kind='violin', data=tips);"
   ]
  },
  {
   "cell_type": "code",
   "execution_count": null,
   "metadata": {},
   "outputs": [],
   "source": [
    "# Usando o parâmetro Hue para ter uma terceira variável\n",
    "sns.catplot(x='day', y='total_bill', hue='time', kind='violin', data=tips);"
   ]
  },
  {
   "cell_type": "code",
   "execution_count": null,
   "metadata": {},
   "outputs": [],
   "source": [
    "# É possível dividir o violin plot com o parâmetro split\n",
    "# Isso é útil quando temos muitos dados para dividir\n",
    "sns.catplot(x='day', y='total_bill', hue='sex', split=True, kind='violin', data=tips);"
   ]
  },
  {
   "cell_type": "code",
   "execution_count": null,
   "metadata": {},
   "outputs": [],
   "source": [
    "# Usando o parâmetro inner para preencher o violin plot com observações\n",
    "# Útil para destacar bem as partes que possuem mais dados\n",
    "sns.catplot(x='day', y='total_bill', hue='sex', split=True, inner='sticker', palette='pastel', kind='violin', data=tips);"
   ]
  },
  {
   "cell_type": "code",
   "execution_count": null,
   "metadata": {},
   "outputs": [],
   "source": [
    "# Podemos combinar também um gráfico de swarm com o violin plot\n",
    "# Dessa forma fica mais explícito ainda a frequência de pontos nas partes do 'violino'\n",
    "sns.catplot(x='day', y='total_bill', hue='sex', split=True, palette='pastel', kind='violin', data=tips);\n",
    "sns.swarmplot(x='day', y='total_bill', color='k', size=3, data=tips);"
   ]
  },
  {
   "cell_type": "markdown",
   "metadata": {},
   "source": [
    "**Visualizando a distribuição de um Dataset**\n",
    "> Histograma\n",
    "- O método histograma tenta encontrar a maior quantidade de bins"
   ]
  },
  {
   "cell_type": "code",
   "execution_count": null,
   "metadata": {},
   "outputs": [],
   "source": [
    "sns.set(color_codes=True)\n",
    "sns.distplot(tips.total_bill, kde=False);"
   ]
  },
  {
   "cell_type": "markdown",
   "metadata": {},
   "source": [
    "**Plotando um histograma para uma distribuição normal**"
   ]
  },
  {
   "cell_type": "code",
   "execution_count": null,
   "metadata": {},
   "outputs": [],
   "source": [
    "# Importa o Numpy para distribuição aleatória dos dados\n",
    "import numpy as np"
   ]
  },
  {
   "cell_type": "code",
   "execution_count": null,
   "metadata": {},
   "outputs": [],
   "source": [
    "# Gera 100 valores aleatórios em uma distribuição normal\n",
    "x = np.random.normal(size=100)"
   ]
  },
  {
   "cell_type": "code",
   "execution_count": null,
   "metadata": {},
   "outputs": [],
   "source": [
    "# Mostra os dados aleatórios da variável x\n",
    "x"
   ]
  },
  {
   "cell_type": "code",
   "execution_count": null,
   "metadata": {},
   "outputs": [],
   "source": [
    "# Plota o histograma para a variável x\n",
    "sns.distplot(x);"
   ]
  },
  {
   "cell_type": "code",
   "execution_count": null,
   "metadata": {},
   "outputs": [],
   "source": [
    "# Plota o histograma com bins=20 e KDE=True\n",
    "sns.distplot(tips.total_bill, bins=20, kde=True);"
   ]
  },
  {
   "cell_type": "code",
   "execution_count": null,
   "metadata": {},
   "outputs": [],
   "source": [
    "# Visualizando apenas o KDE\n",
    "sns.distplot(tips.total_bill, hist=False);"
   ]
  },
  {
   "cell_type": "code",
   "execution_count": null,
   "metadata": {},
   "outputs": [],
   "source": [
    "# Parâmetro Rug\n",
    "sns.distplot(tips.total_bill, hist=False, rug=True);"
   ]
  },
  {
   "cell_type": "markdown",
   "metadata": {},
   "source": [
    "**Jointplot (ScatterPlot e Histograma)**\n",
    "- Quando queremos ver a distribuição de duas variáveis podemos usar o Jointplot\n",
    "- União de gráfico do tipo ScatterPlot e Histograma para as duas variáveis\n",
    "- Mostra o ScatterPlot para as duas variáveis e um Histograma para cada variável separadamente"
   ]
  },
  {
   "cell_type": "code",
   "execution_count": null,
   "metadata": {},
   "outputs": [],
   "source": [
    "sns.jointplot(x='tip', y='total_bill', color='r', data=tips);"
   ]
  },
  {
   "cell_type": "markdown",
   "metadata": {},
   "source": [
    "**Hexbin Plots**\n",
    "- Adequado para visualização de grande conjunto de dados\n",
    "- Tende a funcionar melhor com as cores em branco no fundo"
   ]
  },
  {
   "cell_type": "code",
   "execution_count": null,
   "metadata": {},
   "outputs": [],
   "source": [
    "sns.jointplot(x='tip', y='total_bill', color='b', kind='hex', data=tips);"
   ]
  },
  {
   "cell_type": "code",
   "execution_count": null,
   "metadata": {},
   "outputs": [],
   "source": [
    "# Usando o KDE para plotar mais de uma variável\n",
    "sns.jointplot(x='tip', y='total_bill', color='b', kind='kde', data=tips);"
   ]
  },
  {
   "cell_type": "markdown",
   "metadata": {},
   "source": [
    "**Visualizando relacionamentos emparelhados**\n",
    "- Plota múltiplas variáveis de um dataset\n",
    "- Cria uma matriz de eixos que mostra a relação de cada par de colunas no dataframe\n",
    "- Por padrão plota também um histograma de cada coluna no dataframe na diagonal da matriz"
   ]
  },
  {
   "cell_type": "code",
   "execution_count": null,
   "metadata": {},
   "outputs": [],
   "source": [
    "# Método pairplot()\n",
    "sns.pairplot(tips);"
   ]
  },
  {
   "cell_type": "markdown",
   "metadata": {},
   "source": [
    "**Carrega o Dataset Iris**"
   ]
  },
  {
   "cell_type": "code",
   "execution_count": null,
   "metadata": {},
   "outputs": [],
   "source": [
    "iris = sns.load_dataset('iris')\n",
    "iris.head()"
   ]
  },
  {
   "cell_type": "code",
   "execution_count": null,
   "metadata": {},
   "outputs": [],
   "source": [
    "# Plota pares emparelhados separando pela coluna species\n",
    "sns.pairplot(iris, hue='species', palette='Set1')"
   ]
  },
  {
   "cell_type": "code",
   "execution_count": null,
   "metadata": {},
   "outputs": [],
   "source": [
    "# Plotando Scatter plots com regressão\n",
    "sns.pairplot(iris, kind='reg');"
   ]
  },
  {
   "cell_type": "code",
   "execution_count": null,
   "metadata": {},
   "outputs": [],
   "source": [
    "# Plotando histogramas na diagonal\n",
    "sns.pairplot(iris, hue='species', diag_kind='hist');"
   ]
  },
  {
   "cell_type": "code",
   "execution_count": null,
   "metadata": {},
   "outputs": [],
   "source": [
    "# Plotando apenas 2 colunas do dataframe\n",
    "sns.pairplot(iris, hue='species', vars=['sepal_width', 'sepal_length'], palette='husl');"
   ]
  },
  {
   "cell_type": "markdown",
   "metadata": {},
   "source": [
    "**Gráficos de correlação**\n",
    "- Útil para visualizar se existem correlações positivas ou negativas entre colunas\n",
    "- Método corr() do pandas possibilita calcular correlação por tipo spearman ou pearson"
   ]
  },
  {
   "cell_type": "code",
   "execution_count": null,
   "metadata": {},
   "outputs": [],
   "source": [
    "correlacoes = tips.corr()\n",
    "correlacoes"
   ]
  },
  {
   "cell_type": "code",
   "execution_count": null,
   "metadata": {},
   "outputs": [],
   "source": [
    "ax = sns.heatmap(correlacoes)"
   ]
  },
  {
   "cell_type": "code",
   "execution_count": null,
   "metadata": {},
   "outputs": [],
   "source": [
    "# Exibe os valores da correlação\n",
    "ax = sns.heatmap(correlacoes, annot=True)"
   ]
  },
  {
   "cell_type": "code",
   "execution_count": null,
   "metadata": {},
   "outputs": [],
   "source": [
    "# Visualizando a correlação de colunas do Dataframe Iris\n",
    "correlacoes = iris.corr()\n",
    "ax = sns.heatmap(correlacoes, cmap='PuOr', annot=True)"
   ]
  }
 ],
 "metadata": {
  "language_info": {
   "codemirror_mode": {
    "name": "ipython",
    "version": 3
   },
   "file_extension": ".py",
   "mimetype": "text/x-python",
   "name": "python",
   "nbconvert_exporter": "python",
   "pygments_lexer": "ipython3",
   "version": "3.7.6-final"
  },
  "orig_nbformat": 2,
  "kernelspec": {
   "name": "python3",
   "display_name": "Python 3"
  }
 },
 "nbformat": 4,
 "nbformat_minor": 2
}